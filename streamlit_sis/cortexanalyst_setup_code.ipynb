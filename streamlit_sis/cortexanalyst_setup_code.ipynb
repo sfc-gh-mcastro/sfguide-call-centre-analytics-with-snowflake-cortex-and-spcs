{
 "cells": [
  {
   "cell_type": "markdown",
   "metadata": {},
   "source": [
    "# Cortex Analyst Setup: Talk to your data"
   ]
  },
  {
   "cell_type": "code",
   "execution_count": 5,
   "metadata": {},
   "outputs": [
    {
     "name": "stdout",
     "output_type": "stream",
     "text": [
      "LIST @LLMDEMO.PUBLIC.STREAMLIT_STAGE/app/;\n",
      "\u001b[?25l+-----------------------------------+\n",
      "|\u001b[1m \u001b[0m\u001b[1mname\u001b[0m\u001b[1m \u001b[0m|\u001b[1m \u001b[0m\u001b[1msize\u001b[0m\u001b[1m \u001b[0m|\u001b[1m \u001b[0m\u001b[1mmd5\u001b[0m\u001b[1m \u001b[0m|\u001b[1m \u001b[0m\u001b[1mlast_modified\u001b[0m\u001b[1m \u001b[0m|\n",
      "|------+------+-----+---------------|\n",
      "\u001b[2K\u001b[1A\u001b[2K\u001b[1A\u001b[2K\u001b[1A\u001b[2K+------------------------------------------------------------------------------+\n",
      "|\u001b[1m \u001b[0m\u001b[1mname                 \u001b[0m\u001b[1m \u001b[0m|\u001b[1m \u001b[0m\u001b[1msize \u001b[0m\u001b[1m \u001b[0m|\u001b[1m \u001b[0m\u001b[1mmd5                  \u001b[0m\u001b[1m \u001b[0m|\u001b[1m \u001b[0m\u001b[1mlast_modified       \u001b[0m\u001b[1m \u001b[0m|\n",
      "|-----------------------+-------+-----------------------+----------------------|\n",
      "| streamlit_stage/app/c | 10384 | 9959178bab257016232ae | Sat, 19 Apr 2025     |\n",
      "| all_center_analytics. |       | 136e6bdfc51           | 22:15:20 GMT         |\n",
      "| yaml                  |       |                       |                      |\n",
      "| streamlit_stage/app/c | 48    | 6133f028483b2873a4212 | Sat, 19 Apr 2025     |\n",
      "| ommon/hello.py        |       | c25ae820528           | 22:15:21 GMT         |\n",
      "| streamlit_stage/app/e | 176   | 2f2ff0a14d38a0dfc0318 | Sat, 19 Apr 2025     |\n",
      "| nvironment.yml        |       | f703c1be2e9           | 22:15:21 GMT         |\n",
      "| streamlit_stage/app/p | 368   | 07688f51796204cd11aa0 | Sat, 19 Apr 2025     |\n",
      "| ages/audio_analytics. |       | 100e858d3dc           | 22:15:22 GMT         |\n",
      "| py                    |       |                       |                      |\n",
      "| streamlit_stage/app/p | 448   | 743863472607a0f109181 | Sat, 19 Apr 2025     |\n",
      "| ages/chatbot.py       |       | d3e16a93078           | 22:15:23 GMT         |\n",
      "| streamlit_stage/app/p | 432   | 045bb689fd025d1944442 | Sat, 19 Apr 2025     |\n",
      "| ages/resource_allocat |       | c0c7c648ae1           | 22:15:24 GMT         |\n",
      "| ion_efficiency.py     |       |                       |                      |\n",
      "| streamlit_stage/app/p | 176   | 1a3e03a1464d4ddbb5889 | Sat, 19 Apr 2025     |\n",
      "| ages/test2sql.py      |       | f3a51c5d247           | 22:15:25 GMT         |\n",
      "| streamlit_stage/app/s | 5184  | 7193cd6f82ad3b8cc6c0b | Sat, 19 Apr 2025     |\n",
      "| rc/Chatbot.py         |       | c6884b4619d           | 22:15:26 GMT         |\n",
      "| streamlit_stage/app/s | 10608 | c265ba080a245b18efb54 | Sat, 19 Apr 2025     |\n",
      "| rc/Cortexanalyst.py   |       | aec2962e653           | 22:15:27 GMT         |\n",
      "| streamlit_stage/app/s | 496   | 8bafb388e2c3f9d28da20 | Sat, 19 Apr 2025     |\n",
      "| rc/aboutapp.py        |       | 01f984c3608           | 22:15:28 GMT         |\n",
      "| streamlit_stage/app/s | 9088  | 08ebde5173c2c7c2c5a99 | Sat, 19 Apr 2025     |\n",
      "| rc/audiofile_analytic |       | 9dfad76be14           | 22:15:28 GMT         |\n",
      "| s.py                  |       |                       |                      |\n",
      "| streamlit_stage/app/s | 9808  | a0195700f342630681fc2 | Sat, 19 Apr 2025     |\n",
      "| rc/cortexanalyst.py   |       | bdc3e724e8e           | 21:56:16 GMT         |\n",
      "| streamlit_stage/app/s | 6832  | f8828e0252fe93a676a4f | Sat, 19 Apr 2025     |\n",
      "| rc/functions.py       |       | a210dcaf664           | 22:15:29 GMT         |\n",
      "| streamlit_stage/app/s | 1344  | f04ad5cf9c1328562d9cf | Sat, 19 Apr 2025     |\n",
      "| rc/readme.md          |       | 822c0e98139           | 22:15:30 GMT         |\n",
      "| streamlit_stage/app/s | 6720  | 3de06bbb5f8ed24a335ed | Sat, 19 Apr 2025     |\n",
      "| rc/resourceallocation |       | fd61560a74f           | 22:15:31 GMT         |\n",
      "| efficiency.py         |       |                       |                      |\n",
      "| streamlit_stage/app/s | 288   | 2247089965d0373dce08c | Sat, 19 Apr 2025     |\n",
      "| treamlit_app.py       |       | 17cb8dc862d           | 22:15:32 GMT         |\n",
      "+------------------------------------------------------------------------------+\n",
      "\u001b[?25h\n"
     ]
    }
   ],
   "source": [
    "!snow sql -q \"LIST @LLMDEMO.PUBLIC.STREAMLIT_STAGE/app/;\""
   ]
  },
  {
   "cell_type": "markdown",
   "metadata": {},
   "source": []
  }
 ],
 "metadata": {
  "kernelspec": {
   "display_name": ".venv",
   "language": "python",
   "name": "python3"
  },
  "language_info": {
   "codemirror_mode": {
    "name": "ipython",
    "version": 3
   },
   "file_extension": ".py",
   "mimetype": "text/x-python",
   "name": "python",
   "nbconvert_exporter": "python",
   "pygments_lexer": "ipython3",
   "version": "3.11.6"
  }
 },
 "nbformat": 4,
 "nbformat_minor": 2
}
